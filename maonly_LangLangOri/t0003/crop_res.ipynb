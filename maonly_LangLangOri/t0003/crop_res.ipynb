{
 "cells": [
  {
   "cell_type": "code",
   "execution_count": 1,
   "metadata": {},
   "outputs": [],
   "source": [
    "import numpy as np\n",
    "import matplotlib.pyplot as plt\n",
    "import os\n",
    "import sys\n",
    "import pandas as pd\n",
    "import pickle\n",
    "import seaborn as sns\n",
    "# %%\n",
    "# %%\n",
    "# File path\n",
    "# %%\n",
    "f_path = 'sim_result'\n",
    "base_path = os.getcwd()\n",
    "#base_path = os.path.dirname(__file__)"
   ]
  },
  {
   "cell_type": "markdown",
   "metadata": {},
   "source": [
    "# File path & Classification"
   ]
  },
  {
   "cell_type": "code",
   "execution_count": 2,
   "metadata": {},
   "outputs": [
    {
     "name": "stdout",
     "output_type": "stream",
     "text": [
      "Exceptional files (no pickle no txt)\n",
      "[]\n",
      "res_lin2024-08-28_v0.002_k1e-06.txt\n",
      "0.002\n",
      "1e-06\n",
      "[0.002, 0.005]\n",
      "[1e-07, 1e-06]\n"
     ]
    }
   ],
   "source": [
    "# %%\n",
    "# go to the directory and read all data\n",
    "# And Classify them\n",
    "# %%\n",
    "os.chdir(base_path)\n",
    "os.chdir(f_path)\n",
    "fnam_list = os.listdir()\n",
    "\n",
    "pkl_list = []\n",
    "txt_list = []\n",
    "other_list =[]\n",
    "for fff in fnam_list:\n",
    "    if fff[-4:] == '.txt':\n",
    "        txt_list.append(fff)\n",
    "    elif fff[-4:] == '.pkl':\n",
    "        pkl_list.append(fff)\n",
    "    else:\n",
    "        other_list.append(fff)\n",
    "print('Exceptional files (no pickle no txt)')\n",
    "print(other_list)\n",
    "os.chdir(base_path)\n",
    "\n",
    "# %%\n",
    "# Function for text to input variable\n",
    "# %%\n",
    "txt_tmp = txt_list[0]\n",
    "print(txt_tmp)\n",
    "\n",
    "def txt2vk(txt_tmp):\n",
    "    i_v_start = -1\n",
    "    for ii, tt in enumerate(txt_tmp):\n",
    "        if tt == 'v':\n",
    "            i_v_start = ii + 1\n",
    "        elif tt == 'k':\n",
    "            i_v_end =  ii -1\n",
    "            i_k_start = ii +1\n",
    "        elif tt == '.':\n",
    "            i_k_end = ii\n",
    "    if i_v_start < -0.001:\n",
    "        return False, False\n",
    "    v_re = float(txt_tmp[i_v_start:i_v_end])\n",
    "    k_re = float(txt_tmp[i_k_start:i_k_end])\n",
    "    return v_re, k_re\n",
    "    \n",
    "v_test,k_test = txt2vk(txt_tmp)\n",
    "print(v_test)\n",
    "print(k_test)\n",
    "# %%\n",
    "# List up all inputs\n",
    "v_set = set([])\n",
    "k_set = set([])\n",
    "input_list= []\n",
    "\n",
    "for txtt in txt_list:\n",
    "    v_tmp, k_tmp = txt2vk(txtt)\n",
    "    if type(v_tmp) == type(False):\n",
    "        continue\n",
    "    v_set.add(v_tmp)\n",
    "    k_set.add(k_tmp)\n",
    "    input_list.append([v_tmp, k_tmp])\n",
    "v_list = list(v_set)\n",
    "v_list.sort()\n",
    "k_list = list(k_set)\n",
    "k_list.sort()\n",
    "\n",
    "print(v_list)\n",
    "print(k_list)\n",
    "\n",
    "di_CPUmin = {}\n",
    "di_CPUmin['MTC (1/s)'] = k_list\n",
    " \n",
    "#print(input_list)"
   ]
  },
  {
   "cell_type": "markdown",
   "metadata": {},
   "source": [
    "# Crop the data"
   ]
  },
  {
   "cell_type": "code",
   "execution_count": 3,
   "metadata": {},
   "outputs": [
    {
     "name": "stdout",
     "output_type": "stream",
     "text": [
      "               v=0.002   v=0.005\n",
      "MTC (1/s)                       \n",
      "1.000000e-07  0.051658  0.058681\n",
      "1.000000e-06  0.062132  0.050869\n"
     ]
    }
   ],
   "source": [
    "os.chdir(base_path)\n",
    "os.chdir(f_path)\n",
    "\n",
    "CPU_minu_list = []\n",
    "ind_list = []\n",
    "\n",
    "CPU_minu_mat = np.zeros([len(v_list),len(k_list)])\n",
    "\n",
    "for ff,inpp in zip(txt_list, input_list):\n",
    "    r = open(ff,'r')\n",
    "    line1 = r.readline()\n",
    "    line2 = r.readline()\n",
    "    #print(line1)\n",
    "    #print(line2)\n",
    "    ii_end = 0\n",
    "    for ii,ll in enumerate(line2):\n",
    "        if ll=='m' or ll=='s':\n",
    "            ii_end = ii-1\n",
    "    #print(line2[:ii_end])\n",
    "    r.close()\n",
    "\n",
    "    CPUtime_tmp = float(line2[:ii_end])\n",
    "    CPU_minu_list.append(CPUtime_tmp)\n",
    "    for ii, vv in enumerate(v_list):\n",
    "        if inpp[0] == vv:\n",
    "            i_locate = ii\n",
    "            break\n",
    "    for jj, kk in enumerate(k_list):\n",
    "        if inpp[1] == kk:\n",
    "            j_locate = jj\n",
    "            break\n",
    "    ind_list.append([i_locate, j_locate])\n",
    "    CPU_minu_mat[i_locate, j_locate] = CPUtime_tmp\n",
    "\n",
    "countt = 0\n",
    "for vv, cpuu in zip(v_list, CPU_minu_mat):\n",
    "    di_CPUmin['v=' + str(vv)] = cpuu\n",
    "df_CPUmin = pd.DataFrame(di_CPUmin)\n",
    "df_CPUmin.set_index(keys=['MTC (1/s)'], inplace=True, drop=True)\n",
    "print(df_CPUmin)\n",
    "os.chdir(base_path)\n"
   ]
  },
  {
   "cell_type": "markdown",
   "metadata": {},
   "source": [
    "# Pickle to Convergence"
   ]
  },
  {
   "cell_type": "code",
   "execution_count": 4,
   "metadata": {},
   "outputs": [],
   "source": [
    "def pkl2vk(pkl_tmp):\n",
    "    pkl_re= pkl_tmp.replace('pkl',' ')\n",
    "    i_v_start = -1\n",
    "    for ii, tt in enumerate(pkl_re):\n",
    "        if tt == 'v':\n",
    "            i_v_start = ii + 1\n",
    "        elif tt == 'k':\n",
    "            i_v_end =  ii -1\n",
    "            i_k_start = ii +1\n",
    "        elif tt == '.':\n",
    "            i_k_end = ii\n",
    "    if i_v_start < -0.001:\n",
    "        return False, False\n",
    "    v_re = float(pkl_tmp[i_v_start:i_v_end])\n",
    "    k_re = float(pkl_tmp[i_k_start:i_k_end])\n",
    "    return v_re, k_re\n",
    "\n",
    "# %%\n",
    "\n",
    "def pkl2conv(pkl_tmp):\n",
    "    f = open(pkl_tmp, 'rb')\n",
    "    y_res = pickle.load(f)\n",
    "    y_sample = y_res[-10, 2]\n",
    "    conv_bool = True\n",
    "    if y_sample < 0.001:\n",
    "        conv_bool = False\n",
    "    f.close()\n",
    "    return conv_bool\n"
   ]
  },
  {
   "cell_type": "markdown",
   "metadata": {},
   "source": [
    "# Crop Convergence Data"
   ]
  },
  {
   "cell_type": "code",
   "execution_count": 5,
   "metadata": {},
   "outputs": [
    {
     "name": "stdout",
     "output_type": "stream",
     "text": [
      "pkl2conv test:\n",
      "True\n",
      "[[1. 1.]\n",
      " [1. 1.]]\n"
     ]
    }
   ],
   "source": [
    "os.chdir(base_path)\n",
    "os.chdir(f_path)\n",
    "fnam_pkl_tmp = pkl_list[0]\n",
    "pkl_conv_test = pkl2conv(fnam_pkl_tmp)\n",
    "print('pkl2conv test:')\n",
    "print(pkl_conv_test)\n",
    "\n",
    "CONV_mat = np.zeros([len(v_list),len(k_list)])\n",
    "di_CONV = {}\n",
    "di_CONV['MTC (1/s)'] = k_list\n",
    "\n",
    "CONV_list = []\n",
    "ind_list_pkl = []\n",
    "\n",
    "input_list_pkl = []\n",
    "v_set = set([])\n",
    "k_set = set([])\n",
    "for pkk in pkl_list:\n",
    "    v_tmp, k_tmp = pkl2vk(pkk)\n",
    "    if type(v_tmp) == type(False):\n",
    "        continue\n",
    "    v_set.add(v_tmp)\n",
    "    k_set.add(k_tmp)\n",
    "    input_list_pkl.append([v_tmp, k_tmp])\n",
    "\n",
    "for pkk,inpp in zip(pkl_list, input_list_pkl):\n",
    "    conv_tmp = pkl2conv(pkk)\n",
    "\n",
    "    CONV_list.append(conv_tmp)\n",
    "    for ii, vv in enumerate(v_list):\n",
    "        if inpp[0] == vv:\n",
    "            i_locate = ii\n",
    "            break\n",
    "    for jj, kk in enumerate(k_list):\n",
    "        if inpp[1] == kk:\n",
    "            j_locate = jj\n",
    "            break\n",
    "    ind_list_pkl.append([i_locate, j_locate])\n",
    "    CONV_mat[i_locate, j_locate] = conv_tmp\n",
    "\n",
    "for ii, vv in enumerate(v_list):\n",
    "    di_CONV['v='+str(vv)] = CONV_mat[ii,:]\n",
    "df_CONV = pd.DataFrame(di_CONV)\n",
    "df_CONV.set_index(keys='MTC (1/s)', inplace=True, drop=True)\n",
    "print(CONV_mat)\n",
    "os.chdir(base_path)"
   ]
  },
  {
   "cell_type": "code",
   "execution_count": 6,
   "metadata": {},
   "outputs": [
    {
     "name": "stdout",
     "output_type": "stream",
     "text": [
      "0.055834999999999996\n"
     ]
    }
   ],
   "source": [
    "# Average Comp Time\n",
    "CPU_av = np.sum(np.sum(CPU_minu_mat*CONV_mat))\n",
    "Toto = np.sum(np.sum(CONV_mat))\n",
    "print(CPU_av/Toto)"
   ]
  },
  {
   "cell_type": "markdown",
   "metadata": {},
   "source": [
    "# Heatmap for CPU time"
   ]
  },
  {
   "cell_type": "code",
   "execution_count": 7,
   "metadata": {},
   "outputs": [
    {
     "data": {
      "text/plain": [
       "Text(0.5, 1.0, 'CPU time (s)')"
      ]
     },
     "execution_count": 7,
     "metadata": {},
     "output_type": "execute_result"
    },
    {
     "data": {
      "image/png": "[encoded data removed]",
      "text/plain": [
       "<Figure size 640x480 with 2 Axes>"
      ]
     },
     "metadata": {},
     "output_type": "display_data"
    }
   ],
   "source": [
    "from matplotlib.colors import ListedColormap, BoundaryNorm\n",
    "from matplotlib.colors import LogNorm, Normalize\n",
    "\n",
    "#sns.heatmap(df_CPUmin, annot=True, fmt='.3f',\n",
    "#            cmap = sel_colmap, norm = LogNorm(),\n",
    "#            cbar = True\n",
    "#            )\n",
    "\n",
    "sns.heatmap(df_CPUmin, annot=True, fmt='.3f',\n",
    "            cmap = 'Blues',\n",
    "            cbar = True, \n",
    "            )\n",
    "plt.title('CPU time (s)', fontweight = 'bold')"
   ]
  },
  {
   "cell_type": "code",
   "execution_count": 8,
   "metadata": {},
   "outputs": [
    {
     "name": "stdout",
     "output_type": "stream",
     "text": [
      "[0, 1]\n"
     ]
    }
   ],
   "source": [
    "print(list(range(0,2,1)))\n",
    "\n",
    "sel_col = ['#ba001e','#d80019','#f32b1d','#ff502b','#ff7c3c','#ffa84e','#ffcb6c','#ffe992','#fcfeb3','#e4f693','#c6ea74','#a0de5c','#68cb57','#39be56','#00b14d','#00893e','#006b31']"
   ]
  },
  {
   "cell_type": "code",
   "execution_count": 9,
   "metadata": {},
   "outputs": [
    {
     "data": {
      "text/plain": [
       "Text(0.5, 1.0, 'Success of Simulatoins')"
      ]
     },
     "execution_count": 9,
     "metadata": {},
     "output_type": "execute_result"
    },
    {
     "data": {
      "image/png": "[encoded data removed]",
      "text/plain": [
       "<Figure size 640x480 with 1 Axes>"
      ]
     },
     "metadata": {},
     "output_type": "display_data"
    }
   ],
   "source": [
    "sel_col = ['#ba001e','#00b14d']\n",
    "sel_colmap = ListedColormap(sel_col)\n",
    "#sel_colmap = ListedColormap(sel_col)\n",
    "sel_norm = list(range(0, 2, 1))\n",
    "sel_norm = BoundaryNorm(sel_norm, ncolors=len(sel_col))\n",
    "sns.heatmap(df_CONV, annot=True, cbar = False,\n",
    "            cmap =sel_colmap, norm = sel_norm)\n",
    "plt.title('Success of Simulatoins',fontweight= 'bold')"
   ]
  },
  {
   "cell_type": "code",
   "execution_count": 10,
   "metadata": {},
   "outputs": [
    {
     "data": {
      "text/plain": [
       "4.0"
      ]
     },
     "execution_count": 10,
     "metadata": {},
     "output_type": "execute_result"
    }
   ],
   "source": [
    "np.sum(CONV_mat)"
   ]
  },
  {
   "cell_type": "code",
   "execution_count": 19,
   "metadata": {},
   "outputs": [
    {
     "name": "stdout",
     "output_type": "stream",
     "text": [
      "[[Overall Resulst]]\n",
      "Average CPU time (s):\n",
      " 0.055834999999999996\n",
      "\n",
      "Number of Converged Simul. :\n",
      "4\n",
      "Number of Diverging Simul. :\n",
      "0\n",
      "\n",
      "Average CPU time for Conve. case:\n",
      "0.055834999999999996\n",
      "Average CPU time for Diver. case:\n",
      "<All simulatoins are converged.>\n"
     ]
    }
   ],
   "source": [
    "print('[[Overall Resulst]]')\n",
    "arr_CPU = df_CPUmin.mean()\n",
    "CPU_ave = arr_CPU.mean()\n",
    "print('Average CPU time (s):\\n', CPU_ave)\n",
    "CPU_ave_conv = np.mean(CONV_mat*CPU_minu_mat)\n",
    "CPU_ave_dive = np.mean((1-CONV_mat)*CPU_minu_mat)\n",
    "N_conv = np.sum(CONV_mat)\n",
    "N_dive = np.sum(1-CONV_mat)\n",
    "if N_conv < 0.2:\n",
    "    CPU_ave_conv = '<No converging simulations.>'\n",
    "if N_dive < 0.2:\n",
    "    CPU_ave_dive = '<All simulatoins are converged.>'\n",
    "\n",
    "print()\n",
    "print('Number of Converged Simul. :')\n",
    "print(int(N_conv))\n",
    "print('Number of Diverging Simul. :')\n",
    "print(int(N_dive))\n",
    "print()\n",
    "print(\"Average CPU time for Conve. case:\")\n",
    "print(CPU_ave_conv)\n",
    "print(\"Average CPU time for Diver. case:\")\n",
    "print(CPU_ave_dive)"
   ]
  },
  {
   "cell_type": "code",
   "execution_count": null,
   "metadata": {},
   "outputs": [],
   "source": []
  }
 ],
 "metadata": {
  "kernelspec": {
   "display_name": "Python 3",
   "language": "python",
   "name": "python3"
  },
  "language_info": {
   "codemirror_mode": {
    "name": "ipython",
    "version": 3
   },
   "file_extension": ".py",
   "mimetype": "text/x-python",
   "name": "python",
   "nbconvert_exporter": "python",
   "pygments_lexer": "ipython3",
   "version": "3.11.5"
  }
 },
 "nbformat": 4,
 "nbformat_minor": 2
}
